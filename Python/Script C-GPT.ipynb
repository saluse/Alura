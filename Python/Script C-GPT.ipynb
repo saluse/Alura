{
 "cells": [
  {
   "cell_type": "code",
   "execution_count": 1,
   "metadata": {},
   "outputs": [],
   "source": [
    "from google.cloud import bigquery\n",
    "import pandas as pd"
   ]
  },
  {
   "cell_type": "code",
   "execution_count": null,
   "metadata": {},
   "outputs": [],
   "source": [
    "# Configurar as credenciais\n",
    "caminho_credenciais = \"C:/jupyter/credentials/prd-data-analytics.json\"\n",
    "projeto = \"GESTO-PRD\"\n",
    "cliente = bigquery.Client.from_service_account_json(caminho_credenciais, project=projeto)"
   ]
  },
  {
   "cell_type": "code",
   "execution_count": null,
   "metadata": {},
   "outputs": [],
   "source": [
    "# Solicitar ao usuário a query desejada\n",
    "query = input(\"\"\"WITH t AS (\n",
    "                    SELECT DISTINCT\n",
    "                    a.dtCompetenciaContaPaga AS Competencia\n",
    "                    ,ROUND(SUM(a.vrPagoProcedimentoContaPaga) OVER (PARTITION BY a.dtCompetenciaContaPaga),2) AS vr_sinistro\n",
    "                    FROM `cosmic-shift-235317.fenix_bi.view_fato_sinistro` a\n",
    "                    WHERE a.idEmpresa = 303\n",
    "                    AND a.idOperadora = 8\n",
    "                    AND a.dtCompetenciaContapaga BETWEEN '2023-01-01' AND '2023-02-01'\n",
    "                    )\n",
    "                    SELECT * FROM t \n",
    "                    ORDER BY 1;\"\"\")"
   ]
  },
  {
   "cell_type": "code",
   "execution_count": null,
   "metadata": {},
   "outputs": [],
   "source": [
    "# Executar a query no BigQuery\n",
    "resultado = cliente.query(query).result()"
   ]
  },
  {
   "cell_type": "code",
   "execution_count": null,
   "metadata": {},
   "outputs": [],
   "source": [
    "# Ler os dados do resultado da query\n",
    "dados = pd.DataFrame(data=[list(row.values()) for row in resultado], columns=list(resultado.schema))"
   ]
  },
  {
   "cell_type": "code",
   "execution_count": null,
   "metadata": {},
   "outputs": [],
   "source": [
    "# Salvar os dados em uma planilha\n",
    "dados.to_excel('resultado.xlsx', index=False)\n"
   ]
  }
 ],
 "metadata": {
  "kernelspec": {
   "display_name": "Python 3",
   "language": "python",
   "name": "python3"
  },
  "language_info": {
   "codemirror_mode": {
    "name": "ipython",
    "version": 3
   },
   "file_extension": ".py",
   "mimetype": "text/x-python",
   "name": "python",
   "nbconvert_exporter": "python",
   "pygments_lexer": "ipython3",
   "version": "3.10.7"
  },
  "orig_nbformat": 4
 },
 "nbformat": 4,
 "nbformat_minor": 2
}
